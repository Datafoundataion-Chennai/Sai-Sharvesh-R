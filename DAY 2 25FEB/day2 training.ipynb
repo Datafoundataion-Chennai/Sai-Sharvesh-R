{
 "cells": [
  {
   "cell_type": "code",
   "execution_count": 57,
   "id": "54b432e8-862a-47a2-838f-418fac0f873d",
   "metadata": {},
   "outputs": [
    {
     "name": "stdin",
     "output_type": "stream",
     "text": [
      "Enter numbers separated by spaces:  10 20 20 40 30\n"
     ]
    },
    {
     "name": "stdout",
     "output_type": "stream",
     "text": [
      "30\n"
     ]
    }
   ],
   "source": [
    "#1)Write a program that takes a list of numbers from terminal and returns the second largest number.\n",
    "li =  input(\"Enter numbers separated by spaces: \").split()\n",
    "if len(set(li)) > 1:  \n",
    "    print(sorted(set(li))[-2])  \n",
    "else:  \n",
    "    print(\"None\")  "
   ]
  },
  {
   "cell_type": "code",
   "execution_count": 55,
   "id": "b394a41f-b321-43eb-8500-b5fd641a07e3",
   "metadata": {},
   "outputs": [
    {
     "name": "stdin",
     "output_type": "stream",
     "text": [
      "Enter a sentence:  Hello world hello\n"
     ]
    },
    {
     "name": "stdout",
     "output_type": "stream",
     "text": [
      "{'hello': 2, 'world': 1}\n"
     ]
    }
   ],
   "source": [
    "#2)Write a program that takes a sentence and returns a dictionary with word counts.\n",
    "s = input(\"Enter a sentence: \")\n",
    "words = s.split()\n",
    "word_count = {}\n",
    "for word in words:\n",
    "    word=word.lower()\n",
    "    if word in word_count:\n",
    "        word_count[word] = word_count[word] + 1\n",
    "    else:\n",
    "        word_count[word] = 1\n",
    "print(word_count)"
   ]
  },
  {
   "cell_type": "code",
   "execution_count": 59,
   "id": "c81df939-da60-411c-b322-c683f3557f2e",
   "metadata": {},
   "outputs": [
    {
     "name": "stdout",
     "output_type": "stream",
     "text": [
      "{'a': 10, 'b': 25, 'c': 15}\n",
      "{'x': 1, 'y': 5, 'z': 4}\n"
     ]
    }
   ],
   "source": [
    "#3)Write a function that merges two dictionaries. If a key exists in both, sum the values.\n",
    "def merge_dicts(d1,d2):\n",
    "    result=d1\n",
    "    for i in d2.keys():\n",
    "        if i in result.keys():\n",
    "            result[i]= result[i]+d2[i]\n",
    "        else:\n",
    "            result[i]=d2[i]\n",
    "    return result\n",
    "\n",
    "print(merge_dicts({'a': 10, 'b': 20}, {'b': 5, 'c': 15})) \n",
    "print(merge_dicts({'x': 1, 'y': 2}, {'y': 3, 'z': 4}))            "
   ]
  },
  {
   "cell_type": "code",
   "execution_count": 61,
   "id": "b5ff77aa-3f3b-4dc7-9701-822f1cda6bc6",
   "metadata": {},
   "outputs": [
    {
     "name": "stdout",
     "output_type": "stream",
     "text": [
      "[1, 2, 3]\n",
      "[4, 5, 6]\n",
      "[7, 8, 9]\n",
      "[0, 1, 2]\n"
     ]
    }
   ],
   "source": [
    "li=[[1,2,3],[4,5,6],[7,8,9],[0,1,2]]\n",
    "tr=[]\n",
    "for i in li:\n",
    "    print(i)\n",
    "        "
   ]
  },
  {
   "cell_type": "code",
   "execution_count": 96,
   "id": "ff28dce9-bb56-4e16-919b-7a827732c041",
   "metadata": {},
   "outputs": [
    {
     "name": "stdout",
     "output_type": "stream",
     "text": [
      "[[1, 7, 22], [8, 28, 64]]\n"
     ]
    }
   ],
   "source": [
    "l1=[[1,2,3],[4,5,6]]\n",
    "l2=[[1,2],[3,4],[5,6]]\n",
    "pr = []\n",
    "for i in range(0,len(l1)):\n",
    "    temp=[]\n",
    "    e=0\n",
    "    for j  in range(0,len(l2)):\n",
    "        e +=l1[i][j]*l2[j][i]\n",
    "        temp.append(e)\n",
    "    pr.append(temp)\n",
    "print(pr)"
   ]
  },
  {
   "cell_type": "code",
   "execution_count": 594,
   "id": "e30787ce-ecf2-45f1-9142-ed4453a6d5bb",
   "metadata": {},
   "outputs": [
    {
     "name": "stdout",
     "output_type": "stream",
     "text": [
      "[1, 2, 3, 4, 8, 12]\n"
     ]
    }
   ],
   "source": [
    "# print matrix in sprial order\n",
    "matrix = [\n",
    "    [1,  2,  3,  4],\n",
    "    [5,  6,  7,  8],\n",
    "    [9, 10, 11, 12]\n",
    "]\n",
    "result=[]\n",
    "# result1=[]\n",
    "# result2=[]\n",
    "for i in range(len(matrix)):\n",
    "    for j in range(len(matrix)+1):\n",
    "        if (i==0  or j==len(matrix)) :\n",
    "            result.append(matrix[i][j])\n",
    "        elif (i==2 and j==len(matrix)):\n",
    "            result.append(matrix[i][len(matrix)-1])\n",
    "#         elif (i==2 ):\n",
    "#             result1.append(matrix[i][j])\n",
    "#         elif (i==1):\n",
    "#             result2.append(matrix[i][j])\n",
    "            \n",
    "# result.extend(result1[::-1])\n",
    "# result.extend(result2)\n",
    "print(result)\n",
    "#[1, 2, 3, 4, 8, 12, 11, 10, 9, 5, 6, 7]    "
   ]
  },
  {
   "cell_type": "code",
   "execution_count": 482,
   "id": "4a5659d5-1219-42c4-a6dc-0ecc91db4008",
   "metadata": {},
   "outputs": [
    {
     "name": "stdout",
     "output_type": "stream",
     "text": [
      "no\n",
      "no\n",
      "no\n",
      "no\n",
      "no\n",
      "no\n",
      "no\n",
      "no\n",
      "no\n"
     ]
    }
   ],
   "source": [
    "# 2)Find the Saddle Point in a Matrix. A saddle point in a matrix is an element that is the smallest in its row but the largest in its column. Find and return the saddle point of the given matrix if it exists.\n",
    "# Input:\n",
    "matrix = [\n",
    "    [3, 8, 7],\n",
    "    [5, 6, 4],\n",
    "    [9, 2, 1]\n",
    "]\n",
    "for i in range(len(matrix)):\n",
    "    for j in range(len(matrix[0])):\n",
    "        if (matrix[i][j]>matrix[0][j] and matrix[i][j]<matrix[i][0]):\n",
    "            print(\"yes\")\n",
    "        else:\n",
    "            print(\"no\")\n",
    "\n",
    "# Output:\n",
    "# No saddle point exists."
   ]
  },
  {
   "cell_type": "raw",
   "id": "028a6e26-7429-4ba1-b199-b5eec5dad01f",
   "metadata": {},
   "source": [
    "#4)Given an 𝑀×𝑁 M×N matrix, compute the sum of all border elements (first row, last row, first column, last column).\n",
    "matrix = [\n",
    "    [1, 2, 3, 4],\n",
    "    [5, 6, 7, 8],\n",
    "    [9, 10, 11, 12],\n",
    "    [13, 14, 15, 16]\n",
    "]\n",
    "sum=0\n",
    "for i in range(0,len(matrix)):\n",
    "    for j in range(0,len(matrix)):\n",
    "        if (i==0 or j==3 or i == len(matrix)-1 or j == 0):\n",
    "            sum+=matrix[i][j]\n",
    "print(sum)\n",
    "    "
   ]
  },
  {
   "cell_type": "code",
   "execution_count": 340,
   "id": "e6e4d8a6-cd1e-4d57-ab44-d6d7d57a8d0f",
   "metadata": {},
   "outputs": [
    {
     "name": "stdout",
     "output_type": "stream",
     "text": [
      "[4, 5, 1, 2, 3]\n"
     ]
    }
   ],
   "source": [
    "# 1) Given a list and an integer k, rotate the list to the right by k positions.\n",
    "# Example:\n",
    "# Input:\n",
    "# nums = [1, 2, 3, 4, 5]\n",
    "# k = 2\n",
    "# Output:\n",
    "# [4, 5, 1, 2, 3]\n",
    "nums = [1, 2, 3, 4, 5]\n",
    "k=2\n",
    "l1=[]\n",
    "l1.extend(nums[:-k])\n",
    "l2=nums[len(nums)-k:len(nums)]\n",
    "l2.extend(l1)\n",
    "print(l2)"
   ]
  },
  {
   "cell_type": "code",
   "execution_count": null,
   "id": "1606a992-76d1-428f-af99-4b20b8dad8cd",
   "metadata": {},
   "outputs": [],
   "source": []
  }
 ],
 "metadata": {
  "kernelspec": {
   "display_name": "Python [conda env:anaconda3]",
   "language": "python",
   "name": "conda-env-anaconda3-py"
  },
  "language_info": {
   "codemirror_mode": {
    "name": "ipython",
    "version": 3
   },
   "file_extension": ".py",
   "mimetype": "text/x-python",
   "name": "python",
   "nbconvert_exporter": "python",
   "pygments_lexer": "ipython3",
   "version": "3.11.5"
  }
 },
 "nbformat": 4,
 "nbformat_minor": 5
}
