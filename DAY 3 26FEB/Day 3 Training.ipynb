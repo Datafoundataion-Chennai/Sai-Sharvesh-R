{
 "cells": [
  {
   "cell_type": "code",
   "execution_count": 1,
   "id": "13958c91-509b-435f-8ab6-1546f7fa84b5",
   "metadata": {},
   "outputs": [
    {
     "name": "stdout",
     "output_type": "stream",
     "text": [
      "['JAVA', 'PYTHON', 'C']\n"
     ]
    }
   ],
   "source": [
    "li= [\"java\",\"python\",\"C\"]\n",
    "print(list(map(lambda x:x.upper(),li)))"
   ]
  },
  {
   "cell_type": "code",
   "execution_count": 3,
   "id": "f7605f71-c6ed-4bbf-a078-c05231d8f55f",
   "metadata": {},
   "outputs": [
    {
     "name": "stdout",
     "output_type": "stream",
     "text": [
      "[1, 3, 5, 7, 9]\n"
     ]
    }
   ],
   "source": [
    "li2=[1,2,3,4,5,6,7,8,9]\n",
    "print(list(filter(lambda x:x%2==1,li2)))"
   ]
  },
  {
   "cell_type": "code",
   "execution_count": 44,
   "id": "b45870ba-dd3a-496b-b775-b5255116b648",
   "metadata": {},
   "outputs": [
    {
     "name": "stdout",
     "output_type": "stream",
     "text": [
      "97.23\n"
     ]
    }
   ],
   "source": [
    "# )You have a list of product prices in string format. Convert them into float values using map(), then calculate the total sum.\n",
    "# sample input: prices = [\"12.99\", \"23.50\", \"9.99\", \"45.00\", \"5.75\"]\n",
    "\n",
    "prices = [\"12.99\", \"23.50\", \"9.99\", \"45.00\", \"5.75\"]\n",
    "l1=list(map(lambda x :float(x),prices))\n",
    "add = 0\n",
    "for i in range(len(l1)):\n",
    "    add +=l1[i]\n",
    "print(add)\n"
   ]
  },
  {
   "cell_type": "code",
   "execution_count": 50,
   "id": "2c0b6193-96c8-4b2b-bcd0-4502e3315cf4",
   "metadata": {},
   "outputs": [
    {
     "name": "stdout",
     "output_type": "stream",
     "text": [
      "['apple', 'grape', 'mango']\n"
     ]
    }
   ],
   "source": [
    "# 2)Given a list of words, filter out the words that have an odd number of characters.\n",
    "# sample input: words = [\"apple\", \"banana\", \"grape\", \"kiwi\", \"mango\", \"strawberry\"] \n",
    "\n",
    "words = [\"apple\", \"banana\", \"grape\", \"kiwi\", \"mango\", \"strawberry\"] \n",
    "\n",
    "print(list(filter(lambda x : len(x)%2==1,words)))"
   ]
  },
  {
   "cell_type": "code",
   "execution_count": 81,
   "id": "cbc8d633-5843-4c7f-b969-3f06e0202a14",
   "metadata": {},
   "outputs": [
    {
     "name": "stdin",
     "output_type": "stream",
     "text": [
      "enter a number: 3\n"
     ]
    },
    {
     "name": "stdout",
     "output_type": "stream",
     "text": [
      "[(3, 1, 3), (3, 2, 6), (3, 3, 9), (3, 4, 12), (3, 5, 15), (3, 6, 18), (3, 7, 21), (3, 8, 24), (3, 9, 27), (3, 10, 30)]\n"
     ]
    }
   ],
   "source": [
    "# 3)Given a number n, return its multiplication table (1 to 10) as a list of tuples.\n",
    "# Input: 3\n",
    "# Output: [(3, 1, 3), (3, 2, 6), ..., (3, 10, 30)]\n",
    "\n",
    "n=int(input(\"enter a number:\"))\n",
    "l1=[]\n",
    "if(n>0):\n",
    "    for i in range(1,11):\n",
    "        l1.append((n,i,n*i))\n",
    "print(l1)\n"
   ]
  },
  {
   "cell_type": "code",
   "execution_count": 77,
   "id": "dcd757f6-e8ba-4699-8707-63267c9a639c",
   "metadata": {},
   "outputs": [
    {
     "name": "stdin",
     "output_type": "stream",
     "text": [
      "enter a string Hello World\n"
     ]
    },
    {
     "name": "stdout",
     "output_type": "stream",
     "text": [
      "3\n"
     ]
    }
   ],
   "source": [
    "# 4)Given a sentence as a string, return the count of vowels (a, e, i, o, u).\n",
    "# Input: \"Hello World\"\n",
    "# Output: 3\n",
    "\n",
    "s=(input(\"enter a string\"))\n",
    "s.lower()\n",
    "count =0\n",
    "\n",
    "for i in s:\n",
    "    if (i in 'aieou'):\n",
    "        count +=1\n",
    "print(count)\n",
    "\n",
    "    \n"
   ]
  },
  {
   "cell_type": "code",
   "execution_count": 173,
   "id": "8a0e8f22-258c-4c84-b54a-92d6d609572f",
   "metadata": {},
   "outputs": [
    {
     "name": "stdout",
     "output_type": "stream",
     "text": [
      "[['eat', 'tea', 'ate'], ['tan', 'nat'], ['bat']]\n"
     ]
    }
   ],
   "source": [
    "# 1)Given a list of words, group words that are anagrams.\n",
    "# Input: [\"eat\", \"tea\", \"tan\", \"ate\", \"nat\", \"bat\"]\n",
    "# Output: [['eat', 'tea', 'ate'], ['tan', 'nat'], ['bat']]\n",
    "\n",
    "l1=[\"eat\", \"tea\",\"tan\", \"ate\", \"nat\", \"bat\"]\n",
    "result=[]\n",
    "\n",
    "for i in l1:\n",
    "    temp = []\n",
    "    for j in l1:\n",
    "        if sorted(i) == sorted(j) and j not in temp:\n",
    "            temp.append(j)\n",
    "    if temp not in result:\n",
    "        result.append(temp)\n",
    "print(result)\n",
    "        \n",
    "    "
   ]
  },
  {
   "cell_type": "code",
   "execution_count": 40,
   "id": "9f1d1f63-913a-4d8a-bc4f-0d03e8649fcf",
   "metadata": {},
   "outputs": [
    {
     "name": "stdout",
     "output_type": "stream",
     "text": [
      "[1, 2, 4, 5, 6, 7, 9, 10, 11, 12, 70, 71, 72, 73, 74, 75]\n",
      "6\n"
     ]
    }
   ],
   "source": [
    "# 2)Given an unsorted list of integers, find the length of the longest consecutive sequence.\n",
    "# Input: [100, 4, 200, 1, 3, 2]\n",
    "# Output: 4  # (because the sequence is 1, 2, 3, 4)\n",
    "\n",
    "#l1=[100, 4, 200, 1,  3, 2,101]\n",
    "l2=[6,70,71,72,73,74,75,4,2,6,7,1,2,4,9,10,11,12,5,4]\n",
    "li=set(l2)\n",
    "l1=list(li)\n",
    "l2=sorted(l1)\n",
    "print(l2)\n",
    "count = 0\n",
    "m=0\n",
    "for i in range(len(l2)-1):\n",
    "    if(l2[i] - l2[i+1] == -1):\n",
    "        count +=1\n",
    "    else:\n",
    "        if (m < count):\n",
    "            m = count + 1\n",
    "        count = 0\n",
    "if (m<count):\n",
    "    m=count+1\n",
    "          \n",
    "print(m)"
   ]
  },
  {
   "cell_type": "code",
   "execution_count": 105,
   "id": "5061aa75-9530-41a5-abf5-bec4721a0a88",
   "metadata": {},
   "outputs": [
    {
     "name": "stdout",
     "output_type": "stream",
     "text": [
      "1 , 1\n"
     ]
    }
   ],
   "source": [
    "# Problem Statement:\n",
    "# Given a M x N matrix where rows and columns are sorted in ascending order, write a function to check if a given number exists.\n",
    "# Input:\n",
    "# matrix = [\n",
    "#   [1, 4, 7, 11],\n",
    "#   [2, 5, 8, 12],\n",
    "#   [3, 6, 9, 16]\n",
    "# ]\n",
    "# target = 5\n",
    "# Output: True\n",
    "\n",
    "matrix = [\n",
    "  [1, 4, 7, 11],\n",
    "  [2, 5, 8, 12],\n",
    "  [3, 6, 9, 16]\n",
    "]\n",
    "target=5\n",
    "for i in range(0,len(matrix)):\n",
    "    for j in range(0,len(matrix)):\n",
    "        if(matrix[i][j] == target):\n",
    "            print(i,\",\",j)\n",
    "            \n",
    "        "
   ]
  },
  {
   "cell_type": "code",
   "execution_count": 165,
   "id": "6b39d984-9cec-4b3c-9fcc-ce6e208674d8",
   "metadata": {},
   "outputs": [
    {
     "name": "stdout",
     "output_type": "stream",
     "text": [
      "{2: 2.7777777777777777, 3: 5.555555555555555, 4: 8.333333333333332, 5: 11.11111111111111, 6: 13.88888888888889, 7: 16.666666666666664, 8: 13.88888888888889, 9: 11.11111111111111, 10: 8.333333333333332, 11: 5.555555555555555, 12: 2.7777777777777777}\n",
      "4 9\n",
      "5 9\n",
      "7 4\n",
      "7 6\n",
      "12 2\n",
      "winner: pl2\n"
     ]
    }
   ],
   "source": [
    "\n",
    "d1= [1,2,3,4,5,6]\n",
    "d2=[1,2,3,4,5,6]\n",
    "R = 5\n",
    "o = [[(1,3), (4,5)], [(2,3), (4,5)], [(1,6), (2,2)], [(3,4), (5,1)], [(6,6),(1,1)]]\n",
    "score ={'pl1': 0, 'pl2':0}\n",
    "li = []\n",
    "for i in d1:\n",
    "    for j in d2:\n",
    "        li.append((i,j))\n",
    "di = {}\n",
    "n = len(li)\n",
    "for i in li:\n",
    "    s = sum(i)\n",
    "    if s in di:\n",
    "        di[s].append(i)\n",
    "    else:\n",
    "        di[s] = [i];\n",
    "for i,j in di.items():\n",
    "    di[i]= len(j)/n*100\n",
    "print(di)\n",
    "def calu(o):\n",
    "    for i in o:\n",
    "        # print(i[0])\n",
    "        # print(i[1])\n",
    "        p1 = sum(i[0])\n",
    "        p2 = sum(i[1])\n",
    "        print(p1,p2)\n",
    "        if di[p1] > di[p2]:\n",
    "            score['pl2'] = score['pl2']+1\n",
    "        elif di[p1] < di[p2]:\n",
    "            score['pl1'] +=1\n",
    "        else:\n",
    "            continue\n",
    "\n",
    "calu(o)\n",
    "print(\"winner:\",max(score))\n",
    "    "
   ]
  },
  {
   "cell_type": "code",
   "execution_count": 173,
   "id": "a2603882-3e7c-4b47-b9ec-c0be9f44660f",
   "metadata": {},
   "outputs": [
    {
     "name": "stdout",
     "output_type": "stream",
     "text": [
      "36\n",
      "{2: [(1, 1)], 4: [(1, 3), (3, 1), (3, 1)], 5: [(1, 4), (2, 3), (2, 3), (4, 1)], 6: [(1, 5), (2, 4), (2, 4), (3, 3), (3, 3)], 7: [(1, 6), (2, 5), (2, 5), (3, 4), (3, 4), (4, 3)], 9: [(1, 8), (3, 6), (3, 6), (4, 5)], 3: [(2, 1), (2, 1)], 8: [(2, 6), (2, 6), (3, 5), (3, 5), (4, 4)], 10: [(2, 8), (2, 8), (4, 6)], 11: [(3, 8), (3, 8)], 12: [(4, 8)]}\n",
      "{2: 2.7777777777777777, 4: 8.333333333333332, 5: 11.11111111111111, 6: 13.88888888888889, 7: 16.666666666666664, 9: 11.11111111111111, 3: 5.555555555555555, 8: 13.88888888888889, 10: 8.333333333333332, 11: 5.555555555555555, 12: 2.7777777777777777}\n"
     ]
    }
   ],
   "source": [
    "d1= [1,2,2,3,3,4]\n",
    "d2=[1,3,4,5,6,8]\n",
    "li = []\n",
    "for i in d1:\n",
    "    for j in d2:\n",
    "        li.append((i,j))\n",
    "di = {}\n",
    "n = len(li)\n",
    "print(n)\n",
    "for i in li:\n",
    "    s = sum(i)\n",
    "    if s in di:\n",
    "        di[s].append(i)\n",
    "    else:\n",
    "        di[s] = [i];\n",
    "print(di)\n",
    "for i,j in di.items():\n",
    "    di[i]= len(j)/n*100\n",
    "print(di)"
   ]
  },
  {
   "cell_type": "code",
   "execution_count": 175,
   "id": "299a65e7-d12f-49cd-9c31-8d7560676ebc",
   "metadata": {},
   "outputs": [
    {
     "name": "stdout",
     "output_type": "stream",
     "text": [
      "3 1\n"
     ]
    }
   ],
   "source": [
    "from fractions import Fraction\n",
    "\n",
    "num = 2.99999999999999952\n",
    "\n",
    "fraction = Fraction(num).limit_denominator()\n",
    "print(fraction.numerator, fraction.denominator)\n"
   ]
  },
  {
   "cell_type": "code",
   "execution_count": null,
   "id": "b7803183-9921-47b7-9f46-cab06a9da94d",
   "metadata": {},
   "outputs": [],
   "source": []
  }
 ],
 "metadata": {
  "kernelspec": {
   "display_name": "Python [conda env:anaconda3]",
   "language": "python",
   "name": "conda-env-anaconda3-py"
  },
  "language_info": {
   "codemirror_mode": {
    "name": "ipython",
    "version": 3
   },
   "file_extension": ".py",
   "mimetype": "text/x-python",
   "name": "python",
   "nbconvert_exporter": "python",
   "pygments_lexer": "ipython3",
   "version": "3.11.5"
  }
 },
 "nbformat": 4,
 "nbformat_minor": 5
}
