{
 "cells": [
  {
   "cell_type": "code",
   "execution_count": 2,
   "id": "458aceac-0cf4-46bd-9054-faf7427e4039",
   "metadata": {},
   "outputs": [
    {
     "name": "stdout",
     "output_type": "stream",
     "text": [
      "hai i am sai sharvesh\n"
     ]
    }
   ],
   "source": [
    "with open(\"demo.txt\",\"r\") as file:\n",
    "    content = file.read()\n",
    "    print(content)"
   ]
  },
  {
   "cell_type": "code",
   "execution_count": 19,
   "id": "fe828b64-a01a-4cee-b11b-ac74fc070589",
   "metadata": {},
   "outputs": [],
   "source": [
    "with open(\"demo.txt\",\"a\") as file:\n",
    "    file.write(\"i am saisharvesh \\n\")"
   ]
  },
  {
   "cell_type": "code",
   "execution_count": null,
   "id": "7b5b802f-cbd2-4d52-8c2a-1f4fa2d0af55",
   "metadata": {},
   "outputs": [],
   "source": [
    "with open(\"demo.txt\",\"w\") as file:\n",
    "    file.write(\"i am saisharvesh \\n\")"
   ]
  },
  {
   "cell_type": "code",
   "execution_count": 25,
   "id": "b86df21b-2080-47c9-bf5b-1711f132487e",
   "metadata": {},
   "outputs": [
    {
     "name": "stdout",
     "output_type": "stream",
     "text": [
      "i am practicing file handling in pythoni am saisharvesh\n"
     ]
    }
   ],
   "source": [
    "with open(\"demo.txt\",\"r\") as file:\n",
    "    for line in file:\n",
    "        print(line.strip())"
   ]
  },
  {
   "cell_type": "code",
   "execution_count": 27,
   "id": "e81ce898-b64d-4676-96f7-08b63d0346db",
   "metadata": {},
   "outputs": [
    {
     "name": "stdout",
     "output_type": "stream",
     "text": [
      "found\n"
     ]
    }
   ],
   "source": [
    "import os\n",
    "if os.path.exists(\"demo.txt\"):\n",
    "    print(\"found\")"
   ]
  },
  {
   "cell_type": "code",
   "execution_count": 42,
   "id": "6a046801-8a28-4df1-affc-034f96fbcbcb",
   "metadata": {},
   "outputs": [
    {
     "name": "stdout",
     "output_type": "stream",
     "text": [
      "END\n"
     ]
    }
   ],
   "source": [
    "import csv\n",
    "\n",
    "with open(\"demo.csv\",\"w\", newline=\"\") as file:\n",
    "    writer = csv.writer(file)\n",
    "    writer.writerow([\"Name\",\"Age\",\"Email\",\"phoneNO\",\"Passwrod\"])\n",
    "    writer.writerow([\"sai\",\"32\",\"saisharvesh.2003@gmail.com\",\"9361328292\",\"9876543210@sai\"])\n",
    "\n",
    "print(\"END\")"
   ]
  },
  {
   "cell_type": "code",
   "execution_count": 52,
   "id": "14c851b3-3bc8-421d-833a-46c8dcd1e555",
   "metadata": {},
   "outputs": [
    {
     "name": "stdout",
     "output_type": "stream",
     "text": [
      "{'Name': 'sai', 'Age': '32', 'Email': 'saisharvesh.2003@gmail.com', 'phoneNO': '9361328292', 'Passwrod': '9876543210@sai'}\n"
     ]
    }
   ],
   "source": [
    "with open(\"demo.csv\",\"r\") as file:\n",
    "    reader = csv.DictReader(file)\n",
    "    for i in reader:\n",
    "        print(i)"
   ]
  },
  {
   "cell_type": "code",
   "execution_count": 2,
   "id": "d80dd467-96d2-48ff-a08d-0717bd648796",
   "metadata": {},
   "outputs": [
    {
     "name": "stdout",
     "output_type": "stream",
     "text": [
      "200 :  2\n",
      "404 :  1\n",
      "500 :  1\n",
      "503 :  1\n"
     ]
    }
   ],
   "source": [
    "count = {}\n",
    "with open(\"server_logs.txt\",\"r\") as file:\n",
    "    file =file.read().strip().split(\"\\n\")\n",
    "    for i in file:\n",
    "        i=i.strip().split(\" -\")\n",
    "        \n",
    "        if int(i[1].strip())>=500:\n",
    "            with open(\"error_logs.txt\",\"a\") as errors:\n",
    "                for e in i:\n",
    "                    errors.write(e)\n",
    "                errors.write(\"\\n\")\n",
    "        if i[1].strip() in count:\n",
    "            count[i[1].strip()] +=1\n",
    "        else:\n",
    "            count[i[1].strip()] = 1\n",
    "    for i in count.keys():\n",
    "        print(int(i),\": \",count[i])\n",
    "        \n",
    "                \n",
    "        "
   ]
  },
  {
   "cell_type": "code",
   "execution_count": 28,
   "id": "2534320e-64a3-4a6e-94cd-7def429a7d2a",
   "metadata": {},
   "outputs": [
    {
     "name": "stdout",
     "output_type": "stream",
     "text": [
      "Duplicates removed: 4\n",
      "Records with missing values: 0\n"
     ]
    }
   ],
   "source": [
    "with open(\"task.csv\",\"r\") as file:\n",
    "    data = [line.strip().split(\",\") for line in file]\n",
    "    \n",
    "unique_records = set()\n",
    "duplicates_count = 0\n",
    "missing_values_count = 0\n",
    "    \n",
    "for row in data[1:]:\n",
    "    record = tuple(row)\n",
    "    if record in unique_records:\n",
    "        duplicates_count += 1\n",
    "    else:\n",
    "        unique_records.add(record)\n",
    "        \n",
    "    if \"\" in row[2:]:\n",
    "        missing_values_count += 1\n",
    "    \n",
    "print(f\"Duplicates removed: {duplicates_count}\")\n",
    "print(f\"Records with missing values: {missing_values_count}\")\n",
    "            \n",
    "            \n",
    "    \n",
    "        "
   ]
  },
  {
   "cell_type": "code",
   "execution_count": null,
   "id": "6aa7785e-edfc-481b-b3dc-f00f71632ef1",
   "metadata": {},
   "outputs": [],
   "source": []
  }
 ],
 "metadata": {
  "kernelspec": {
   "display_name": "Python [conda env:anaconda3]",
   "language": "python",
   "name": "conda-env-anaconda3-py"
  },
  "language_info": {
   "codemirror_mode": {
    "name": "ipython",
    "version": 3
   },
   "file_extension": ".py",
   "mimetype": "text/x-python",
   "name": "python",
   "nbconvert_exporter": "python",
   "pygments_lexer": "ipython3",
   "version": "3.11.5"
  }
 },
 "nbformat": 4,
 "nbformat_minor": 5
}
