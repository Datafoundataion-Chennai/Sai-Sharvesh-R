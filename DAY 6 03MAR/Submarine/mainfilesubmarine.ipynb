{
 "cells": [
  {
   "cell_type": "code",
   "execution_count": null,
   "id": "8e3d36c2-d78c-401d-b681-e69a17c9de4e",
   "metadata": {},
   "outputs": [
    {
     "name": "stderr",
     "output_type": "stream",
     "text": [
      "2025-03-03 17:24:51,202 - WARNING - Invalid Authorization Code!\n"
     ]
    },
    {
     "name": "stdin",
     "output_type": "stream",
     "text": [
      "enter the lauch code \n"
     ]
    }
   ],
   "source": [
    "import json\n",
    "import logging\n",
    "from authorization import LaunchAuthorizationSystem\n",
    "\n",
    "# Set up logging (console output only)\n",
    "logging.basicConfig(level=logging.INFO, format=\"%(asctime)s - %(levelname)s - %(message)s\")\n",
    "\n",
    "class Warhead:\n",
    "    \"\"\"Represents a nuclear warhead with specific payload information.\"\"\"\n",
    "    \n",
    "    def __init__(self, warhead_id, type, yield_kt):\n",
    "        self.warhead_id = warhead_id\n",
    "        self.type = type\n",
    "        self.yield_kt = yield_kt  # Yield in kilotons\n",
    "\n",
    "    def get_info(self):\n",
    "        return f\"Warhead {self.warhead_id}: Type {self.type}, Yield {self.yield_kt}kt\"\n",
    "\n",
    "class Submarine:\n",
    "    \"\"\"Controls the nuclear missile launch sequence.\"\"\"\n",
    "    \n",
    "    def __init__(self, name, warhead_data):\n",
    "        self.name = name\n",
    "        self.warheads = [Warhead(**w) for w in warhead_data]\n",
    "    \n",
    "    def authorize_launch(self, auth_code1,auth_code2):\n",
    "        \"\"\"Attempts to authorize and launch a missile.\"\"\"\n",
    "        if auth_code1 == auth_code2:\n",
    "            if LaunchAuthorizationSystem.validate_code(auth_code1):\n",
    "                logging.info(f\"Launch authorized for {self.name}. Preparing to launch SLBM...\")\n",
    "                self.launch_missile()\n",
    "        else:\n",
    "            logging.error(\"Launch Authorization Failed! Access Denied.\")\n",
    "\n",
    "    def launch_missile(self):\n",
    "        \"\"\"Simulates launching a missile.\"\"\"\n",
    "        if self.warheads:\n",
    "            warhead = self.warheads.pop(0)  # Fire the first available warhead\n",
    "            logging.info(f\"🚀 Missile launched carrying {warhead.get_info()}!\")\n",
    "        else:\n",
    "            logging.warning(\"No warheads available for launch.\")\n",
    "\n",
    "# JSON Data (Simulating a warhead payload inventory)\n",
    "warhead_json = '''\n",
    "[\n",
    "    {\"warhead_id\": \"W001\", \"type\": \"Thermonuclear\", \"yield_kt\": 1000},\n",
    "    {\"warhead_id\": \"W002\", \"type\": \"Tactical\", \"yield_kt\": 300}\n",
    "]\n",
    "'''\n",
    "\n",
    "# Load warhead data\n",
    "warhead_data = json.loads(warhead_json)\n",
    "\n",
    "# Initialize submarine\n",
    "submarine = Submarine(\"USS Trident\", warhead_data)\n",
    "\n",
    "# 🚀 Try launching with an incorrect code\n",
    "submarine.authorize_launch(\"INVALID-123\",\"INVALID-123\")\n",
    "# AUTH-XYZ123-4567-SECURE\n",
    "# 🚀 Try launching with a valid code\n",
    "cap_code=input(\"enter the lauch code\")\n",
    "Excutive_code=input(\"enter the lauch code\")\n",
    "submarine.authorize_launch(cap_code,Excutive_code)\n"
   ]
  },
  {
   "cell_type": "code",
   "execution_count": null,
   "id": "50a834b7-533e-4e62-8540-9bd3b0c55a01",
   "metadata": {},
   "outputs": [],
   "source": []
  }
 ],
 "metadata": {
  "kernelspec": {
   "display_name": "Python [conda env:anaconda3]",
   "language": "python",
   "name": "conda-env-anaconda3-py"
  },
  "language_info": {
   "codemirror_mode": {
    "name": "ipython",
    "version": 3
   },
   "file_extension": ".py",
   "mimetype": "text/x-python",
   "name": "python",
   "nbconvert_exporter": "python",
   "pygments_lexer": "ipython3",
   "version": "3.11.5"
  }
 },
 "nbformat": 4,
 "nbformat_minor": 5
}
