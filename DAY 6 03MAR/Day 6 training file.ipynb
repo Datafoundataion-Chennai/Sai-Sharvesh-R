{
 "cells": [
  {
   "cell_type": "code",
   "execution_count": null,
   "id": "f54e93e3-d54c-4b9a-8add-d9c2601f3199",
   "metadata": {},
   "outputs": [
    {
     "name": "stdout",
     "output_type": "stream",
     "text": [
      " Welcome to the Haunted Maze! Escape before the ghosts catch you! \n",
      "# # # # # # # #\n",
      "# P . . # . E #\n",
      "# # # . # . # #\n",
      "# . G . . . . #\n",
      "# # # # # # # #\n",
      "\n",
      "\n"
     ]
    },
    {
     "name": "stdin",
     "output_type": "stream",
     "text": [
      "Move (W/A/S/D):  x\n"
     ]
    },
    {
     "name": "stdout",
     "output_type": "stream",
     "text": [
      "Invalid move! Use W (up), A (left), S (down), D (right)\n"
     ]
    },
    {
     "name": "stdin",
     "output_type": "stream",
     "text": [
      "Move (W/A/S/D):  w\n"
     ]
    },
    {
     "name": "stdout",
     "output_type": "stream",
     "text": [
      "Cannot go through wall\n",
      "# # # # # # # #\n",
      "# P . . # . E #\n",
      "# # # . # . # #\n",
      "# . G . . . . #\n",
      "# # # # # # # #\n",
      "\n",
      "\n"
     ]
    }
   ],
   "source": [
    "\n",
    "import random\n",
    "import time\n",
    "\n",
    "# Define the maze grid\n",
    "maze = [\n",
    "    [\"#\", \"#\", \"#\", \"#\", \"#\", \"#\", \"#\", \"#\"],\n",
    "    [\"#\", \"P\", \".\", \".\", \"#\", \".\", \"E\", \"#\"],\n",
    "    [\"#\", \"#\", \"#\", \".\", \"#\", \".\", \"#\", \"#\"],\n",
    "    [\"#\", \".\", \"G\", \".\", \".\", \".\", \".\", \"#\"],\n",
    "    [\"#\", \"#\", \"#\", \"#\", \"#\", \"#\", \"#\", \"#\"]\n",
    "]\n",
    "\n",
    "# Function to display the maze\n",
    "def print_maze():\n",
    "    for row in maze:\n",
    "        print(\" \".join(row))\n",
    "    print(\"\\n\")\n",
    "\n",
    "# Function to find the position of an element (P, G, E)\n",
    "def find_position(symbol):\n",
    "    for i in range(len(maze)):\n",
    "        for j in range(len(maze[i])):\n",
    "            if maze[i][j] == symbol:\n",
    "                return (i, j)\n",
    "    return None\n",
    "\n",
    "# Function to move the player\n",
    "def move_player(direction):\n",
    "    global maze\n",
    "    px, py = find_position(\"P\")\n",
    "\n",
    "    # Calculate new position based on input\n",
    "    new_x, new_y = px, py\n",
    "    if direction == \"W\":  # Up\n",
    "        new_x -= 1\n",
    "    elif direction == \"S\":  # Down\n",
    "        new_x += 1\n",
    "    elif direction == \"A\":  # Left\n",
    "        new_y -= 1\n",
    "    elif direction == \"D\":  # Right\n",
    "        new_y += 1\n",
    "\n",
    "    # Handle wall collisions\n",
    "    if maze[new_x][new_y] == \"#\":\n",
    "        print(\"Cannot go through wall\")\n",
    "        return\n",
    "\n",
    "    # Handle reaching the exit\n",
    "    if maze[new_x][new_y] == \"E\":\n",
    "        print(\"You escaped\")\n",
    "        exit()\n",
    "\n",
    "    # Handle valid movement updates\n",
    "    maze[px][py] = \".\"\n",
    "    maze[new_x][new_y] = \"P\"\n",
    "\n",
    "# Function to move the ghosts towards the player\n",
    "def move_ghosts():\n",
    "    global maze\n",
    "    px, py = find_position(\"P\")\n",
    "    gx, gy = find_position(\"G\")\n",
    "\n",
    "    \n",
    "\n",
    "# Game loop\n",
    "def game_loop():\n",
    "    print(\" Welcome to the Haunted Maze! Escape before the ghosts catch you! \")\n",
    "    print_maze()\n",
    "    while True:\n",
    "        direction = input(\"Move (W/A/S/D): \").upper()\n",
    "        if direction not in [\"W\", \"A\", \"S\", \"D\"]:\n",
    "            print(\"Invalid move! Use W (up), A (left), S (down), D (right)\")\n",
    "            continue\n",
    "        move_player(direction)  # Move player\n",
    "        move_ghosts()  # Move ghosts\n",
    "        print_maze()  # Print updated maze\n",
    "\n",
    "        # Check win condition\n",
    "        px, py = find_position(\"P\")\n",
    "        if maze[px][py] == \"E\":\n",
    "            print(\"You escaped the maze!\")\n",
    "            exit()\n",
    "\n",
    "        # Check lose condition\n",
    "        gx, gy = find_position(\"G\")\n",
    "        if px == gx and py == gy:\n",
    "            print(\"Game over\")\n",
    "            exit()\n",
    "\n",
    "game_loop()\n"
   ]
  },
  {
   "cell_type": "code",
   "execution_count": 66,
   "id": "feb2e0fd-3bd3-4488-b31b-aa576ff058b5",
   "metadata": {},
   "outputs": [
    {
     "name": "stdout",
     "output_type": "stream",
     "text": [
      "['support@example.com', 'john.doe123@company.org', 'jane_doe@domain.co.uk']\n"
     ]
    }
   ],
   "source": [
    "import re\n",
    "text = \"Contact us at support@example.com, john.doe123@company.org, or invalid-email@com. Also, try jane_doe@domain.co.uk.\"\n",
    "\n",
    "match = re.findall(r\"\\b[a-zA-Z0-9._+-]+@[a-zA-Z0-9.-]+\\.[a-zA-Z]{2,}\\b\",text)\n",
    "print(match)"
   ]
  },
  {
   "cell_type": "code",
   "execution_count": 56,
   "id": "98fe95ac-df4a-4224-901c-f96bd7a74d69",
   "metadata": {},
   "outputs": [
    {
     "name": "stdout",
     "output_type": "stream",
     "text": [
      "['#Python', '#coding', '#100DaysOfCode', '#Regex_Challenge']\n"
     ]
    }
   ],
   "source": [
    "tweet = \"Learning #Python is fun! #coding #100DaysOfCode #Regex_Challenge\"\n",
    "match = re.findall(r\"#\\w+\",tweet)\n",
    "print(match)"
   ]
  },
  {
   "cell_type": "code",
   "execution_count": 110,
   "id": "5e4cc156-1e22-490e-ab31-e44f1e1a6835",
   "metadata": {},
   "outputs": [
    {
     "name": "stdout",
     "output_type": "stream",
     "text": [
      "WeakPass ->invaild\n",
      "Str0ng@Pass -> Vaild\n",
      "NoSpecial1 ->invaild\n",
      "short!1 ->invaild\n",
      "Secure#123 ->invaild\n"
     ]
    }
   ],
   "source": [
    "passwords = [\"WeakPass\", \"Str0ng@Pass\", \"NoSpecial1\", \"short!1\", \"Secure#123\"]\n",
    "for t in passwords:\n",
    "    match = re.findall(r\"^(?=.*[a-zA-Z])(?=.*\\d)(?=.*[@$%#!*?&])[A-Za-z\\d@$!%*?&]{8,}$\",t)\n",
    "    \n",
    "    if match:\n",
    "        print(f\"{t} -> Vaild\")\n",
    "    else:\n",
    "        print(f\"{t} ->invaild\")\n"
   ]
  },
  {
   "cell_type": "code",
   "execution_count": null,
   "id": "b65f3d0d-f0e2-4a10-aeed-ca688d37c40d",
   "metadata": {},
   "outputs": [],
   "source": []
  }
 ],
 "metadata": {
  "kernelspec": {
   "display_name": "Python [conda env:anaconda3]",
   "language": "python",
   "name": "conda-env-anaconda3-py"
  },
  "language_info": {
   "codemirror_mode": {
    "name": "ipython",
    "version": 3
   },
   "file_extension": ".py",
   "mimetype": "text/x-python",
   "name": "python",
   "nbconvert_exporter": "python",
   "pygments_lexer": "ipython3",
   "version": "3.11.5"
  }
 },
 "nbformat": 4,
 "nbformat_minor": 5
}
