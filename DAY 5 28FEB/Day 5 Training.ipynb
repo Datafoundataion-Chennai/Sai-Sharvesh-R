{
 "cells": [
  {
   "cell_type": "code",
   "execution_count": 13,
   "id": "426743ab-ef22-4ce8-b611-ee1fe356a743",
   "metadata": {},
   "outputs": [
    {
     "name": "stdout",
     "output_type": "stream",
     "text": [
      "object created\n",
      "object created\n",
      "object destroyed\n",
      "object destroyed\n"
     ]
    }
   ],
   "source": [
    "class Car:\n",
    "    def __init__(self,name,brand,price,color):\n",
    "        self.name = name\n",
    "        self.brand = brand\n",
    "        self.price = price\n",
    "        self.color = color\n",
    "        print(\"object created\")\n",
    "\n",
    "    def __del__(self):\n",
    "        print(\"object destroyed\")\n",
    "def create_object():\n",
    "    car1=Car(\"toyota\",\"camry\",4000000,\"black\")\n",
    "    #del car1\n",
    "    car2=Car(\"toyota\",\"camry\",4000000,\"black\")\n",
    "create_object()\n"
   ]
  },
  {
   "cell_type": "code",
   "execution_count": 19,
   "id": "944c6489-a561-4df7-930d-9d3be0da91b0",
   "metadata": {},
   "outputs": [
    {
     "name": "stdout",
     "output_type": "stream",
     "text": [
      "object created\n",
      "object created\n",
      "True\n",
      "object destroyed\n",
      "object destroyed\n"
     ]
    }
   ],
   "source": [
    "class Car:\n",
    "    def __init__(self,name,brand,price,color):\n",
    "        self.name = name\n",
    "        self.brand = brand\n",
    "        self.price = price\n",
    "        self.color = color\n",
    "        print(\"object created\")\n",
    "\n",
    "    def __del__(self):\n",
    "        print(\"object destroyed\")\n",
    "\n",
    "    def __str__(self):\n",
    "        return f\"name:{self.name},brand:{self.brand}\"\n",
    "\n",
    "    def __eq__(self,obj):\n",
    "        return self.price == obj.price\n",
    "\n",
    "\n",
    "def create_object():\n",
    "    car1=Car(\"toyota\",\"camry\",4000000,\"black\")\n",
    "    # del car1\n",
    "    car2=Car(\"toyota\",\"camry\",4000000,\"black\")\n",
    "    print(car1 == car2)\n",
    "\n",
    "create_object()\n"
   ]
  },
  {
   "cell_type": "code",
   "execution_count": 25,
   "id": "f2af0a53-1473-45cb-823a-8d82e96da377",
   "metadata": {},
   "outputs": [
    {
     "name": "stdout",
     "output_type": "stream",
     "text": [
      "object created\n",
      "black\n",
      "white\n"
     ]
    }
   ],
   "source": [
    "class Car:\n",
    "    def __init__(self,name,brand,price,color):\n",
    "        self.name = name\n",
    "        self.brand = brand\n",
    "        self.price = price\n",
    "        self.color = color\n",
    "        print(\"object created\")\n",
    "\n",
    "\n",
    "def create_object():\n",
    "    car1=Car(\"toyota\",\"camry\",4000000,[\"black\",\"white\",\"yellow\",\"red\"])\n",
    "    iterator = iter(car1.color)\n",
    "    print(next(iterator))\n",
    "    print(next(iterator))\n",
    "\n",
    "create_object()\n"
   ]
  },
  {
   "cell_type": "code",
   "execution_count": 29,
   "id": "02b01938-d6cb-4896-b59a-0002ecc6590d",
   "metadata": {},
   "outputs": [
    {
     "name": "stdout",
     "output_type": "stream",
     "text": [
      "1\n",
      "2\n",
      "3\n",
      "4\n",
      "5\n",
      "6\n"
     ]
    }
   ],
   "source": [
    "class  MyIterator:\n",
    "    def __init__(self,s,e):\n",
    "        self.current=s\n",
    "        self.end=e\n",
    "\n",
    "    def __iter__(self):\n",
    "        return self\n",
    "    def __next__(self):\n",
    "        if self.current>self.end:\n",
    "            raise StopIteration\n",
    "        value=self.current\n",
    "        self.current+=1\n",
    "        return value\n",
    "\n",
    "it = MyIterator(1,6)\n",
    "for i in it:\n",
    "    print(i)"
   ]
  },
  {
   "cell_type": "code",
   "execution_count": 37,
   "id": "72e95bf3-4dd7-46c3-83e5-ec68c64b701a",
   "metadata": {},
   "outputs": [
    {
     "name": "stdout",
     "output_type": "stream",
     "text": [
      "start\n",
      "ops\n"
     ]
    }
   ],
   "source": [
    "#Exception\n",
    "def display():\n",
    "    try:\n",
    "        \n",
    "        print(\"start\")\n",
    "        a = 5/0\n",
    "    except ZeroDivisionError:\n",
    "        print(\"ops\")\n",
    "\n",
    "display()"
   ]
  },
  {
   "cell_type": "code",
   "execution_count": 49,
   "id": "331e5aa9-37b4-4f13-911f-4bb2f31d6975",
   "metadata": {},
   "outputs": [
    {
     "name": "stdout",
     "output_type": "stream",
     "text": [
      "Division by zero\n",
      "unsupported operand type(s) for +: 'int' and 'str'\n",
      "Unsupported operator\n"
     ]
    }
   ],
   "source": [
    "def calculator(a, b, operator):\n",
    "    \"\"\"\n",
    "    Performs a calculation based on the given operator.\n",
    "    \n",
    "    :param a: First number (int/float)\n",
    "    :param b: Second number (int/float)\n",
    "    :param operator: String representing an operation (+, -, *, /, %, **)\n",
    "    :return: Computed result or error message\n",
    "    \"\"\"\n",
    "    try:\n",
    "        if operator == \"+\":\n",
    "            result = a + b\n",
    "        elif operator == \"-\":\n",
    "            result = a - b\n",
    "        elif operator == \"*\":\n",
    "            result = a * b\n",
    "        elif operator == \"/\":\n",
    "            if b == 0:\n",
    "                raise ZeroDivisionError(\"cannot divide by zero\")\n",
    "            result = a / b\n",
    "        elif operator == \"%\":\n",
    "            result = a % b\n",
    "        elif operator == \"**\":\n",
    "            result = a ** b\n",
    "        else:\n",
    "            raise ValueError(\"Unsupported operator\")\n",
    "\n",
    "        return result\n",
    "\n",
    "        pass  \n",
    "    except ZeroDivisionError as e:\n",
    "        return e  # TODO: Handle division by zero\n",
    "    except ValueError as e:\n",
    "        return e  # TODO: Handle invalid numbers\n",
    "    except TypeError as e:\n",
    "        return e # TODO: Handle non-numeric input\n",
    "    except Exception as e:\n",
    "        return  f\"unexpected error:{e}\"  # TODO: Handle any unexpected exceptions\n",
    "\n",
    "# Example Usage:\n",
    "print(calculator(10, 0, \"/\"))  # Should return: \"Error: Division by zero\"\n",
    "print(calculator(10, \"five\", \"+\"))  # Should return: \"Error: Invalid input type\"\n",
    "print(calculator(10, 5, \"$\"))  # Should return: \"Error: Unsupported operator\"\n",
    "\n",
    "\n"
   ]
  },
  {
   "cell_type": "code",
   "execution_count": 162,
   "id": "42c70517-4a07-46a2-991b-721ec842d530",
   "metadata": {},
   "outputs": [
    {
     "name": "stdout",
     "output_type": "stream",
     "text": [
      "InsufficientFundsError\n",
      "amount cannot be negative\n"
     ]
    }
   ],
   "source": [
    "class InsufficientFundsError(Exception):\n",
    "    def __init__(self, balance):\n",
    "        self.message = balance\n",
    "        super().__init__(self.message)\n",
    "    \"\"\"Custom exception for insufficient balance\"\"\"\n",
    "    pass\n",
    "\n",
    "class BankAccount:\n",
    "    def __init__(self, balance):\n",
    "        self.balance = balance\n",
    "        \n",
    "\n",
    "    def withdraw(self, amount):\n",
    "\n",
    "        \"\"\"\n",
    "        Withdraws money from the account.\n",
    "        \n",
    "        :param amount: Amount to withdraw\n",
    "        :return: Remaining balance or error message\n",
    "        \"\"\"\n",
    "        try:\n",
    "            # TODO: Implement withdrawal logic\n",
    "            if amount < 0:\n",
    "                raise ValueError(\"amount cannot be negative\")\n",
    "\n",
    "            if self.balance < amount:\n",
    "                raise InsufficientFundsError(\"InsufficientFundsError\")\n",
    "            self.balance -= amount\n",
    "            return self.balance\n",
    "\n",
    "        except ValueError as e:\n",
    "            return e  # TODO: Handle negative withdrawal amounts\n",
    "        except InsufficientFundsError as e:\n",
    "            return e  # TODO: Handle insufficient funds\n",
    "        except Exception as e:\n",
    "            return f\"unexpected error:{e}\" # TODO: Handle unexpected errors\n",
    "\n",
    "# Example Usage:\n",
    "account = BankAccount(100)\n",
    "print(account.withdraw(150))  # Should raise InsufficientFundsError\n",
    "print(account.withdraw(-10))  # Should raise ValueError\n"
   ]
  },
  {
   "cell_type": "code",
   "execution_count": 231,
   "id": "9048c8ec-fedc-4436-a444-e02a2ceee116",
   "metadata": {},
   "outputs": [
    {
     "name": "stdout",
     "output_type": "stream",
     "text": [
      "division error\n",
      "value error\n",
      "out of index\n"
     ]
    }
   ],
   "source": [
    "def process_data(data, index):\n",
    "    \"\"\"\n",
    "    Processes data with error handling.\n",
    "    \n",
    "    :param data: List of numbers (strings that should be converted to int)\n",
    "    :param index: Index to divide with\n",
    "    :return: Processed result or error message\n",
    "    \"\"\"\n",
    "    try:\n",
    "        \n",
    "        for i in range(len(data)):\n",
    "            data[i]=int (data[i])\n",
    "        if index < 0 or index >= len(data):\n",
    "            raise IndexError(\"out of index\")\n",
    "        x=10\n",
    "        for i in data:\n",
    "            x=x/i\n",
    "        \n",
    "\n",
    "         \n",
    "    except ZeroDivisionError as e:\n",
    "        return \"division error\"  # TODO: Handle division by zero\n",
    "    except ValueError as e:\n",
    "        return \"value error\"  # TODO: Handle invalid conversions\n",
    "    except IndexError as e:\n",
    "        return e  # TODO: Handle out-of-bounds index\n",
    "    except Exception as e:\n",
    "        return f\"unexpected error:{e}\" # TODO: Handle unexpected errors\n",
    "\n",
    "# Example Usage:\n",
    "data_list = [\"10\", \"20\", \"0\", \"40\"]\n",
    "print(process_data(data_list, 2))  # Should handle division by zero\n",
    "print(process_data([\"10\", \"abc\", \"30\"], 1))  # Should handle ValueError\n",
    "print(process_data([10, 20], 5))  # Should handle IndexError\n"
   ]
  },
  {
   "cell_type": "code",
   "execution_count": null,
   "id": "e28019b5-0f4a-48fa-9a7f-4fc1087befb5",
   "metadata": {},
   "outputs": [],
   "source": []
  },
  {
   "cell_type": "code",
   "execution_count": null,
   "id": "ea254fe4-530c-4f9f-947d-f3c0cefef2bb",
   "metadata": {},
   "outputs": [],
   "source": []
  }
 ],
 "metadata": {
  "kernelspec": {
   "display_name": "Python [conda env:anaconda3]",
   "language": "python",
   "name": "conda-env-anaconda3-py"
  },
  "language_info": {
   "codemirror_mode": {
    "name": "ipython",
    "version": 3
   },
   "file_extension": ".py",
   "mimetype": "text/x-python",
   "name": "python",
   "nbconvert_exporter": "python",
   "pygments_lexer": "ipython3",
   "version": "3.11.5"
  }
 },
 "nbformat": 4,
 "nbformat_minor": 5
}
