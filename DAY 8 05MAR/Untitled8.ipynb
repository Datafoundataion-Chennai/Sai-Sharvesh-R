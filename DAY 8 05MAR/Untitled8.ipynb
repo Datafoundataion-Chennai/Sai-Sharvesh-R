{
 "cells": [
  {
   "cell_type": "code",
   "execution_count": 15,
   "id": "b136ec19-6723-4c5d-8a14-2ca15b25480c",
   "metadata": {},
   "outputs": [
    {
     "name": "stdout",
     "output_type": "stream",
     "text": [
      "[[451 449 262 470 379]\n",
      " [262 309 429 334 139]\n",
      " [117 399 451 145 396]\n",
      " [347 463 381 432 132]\n",
      " [149 171 352 416 457]\n",
      " [120 433 229 158 239]\n",
      " [282 350 364 183 441]\n",
      " [310 171 312 198 231]\n",
      " [228 215 449 338 226]\n",
      " [466 263 181 238 440]\n",
      " [240 180 253 414 129]\n",
      " [158 259 274 310 251]\n",
      " [111 473 274 458 291]\n",
      " [285 350 196 240 382]\n",
      " [473 253 126 162 476]\n",
      " [257 102 359 124 398]\n",
      " [153 366 222 309 195]\n",
      " [186 139 419 488 408]\n",
      " [496 227 348 345 360]\n",
      " [322 228 475 308 483]\n",
      " [207 178 430 139 453]\n",
      " [482 190 180 245 445]\n",
      " [330 255 200 167 214]\n",
      " [227 254 103 352 172]\n",
      " [301 358 283 119 157]\n",
      " [154 469 385 235 257]\n",
      " [117 491 408 197 290]\n",
      " [209 210 417 242 229]\n",
      " [454 116 132 199 279]\n",
      " [443 217 108 464 348]]\n"
     ]
    }
   ],
   "source": [
    "import numpy as np\n",
    "dataset = np.random.randint(100,500,(30,5))\n",
    "print(dataset)"
   ]
  },
  {
   "cell_type": "code",
   "execution_count": 17,
   "id": "fca0ecd3-eb05-41d2-8615-19d1bbd81297",
   "metadata": {},
   "outputs": [
    {
     "name": "stdout",
     "output_type": "stream",
     "text": [
      "Average stock prices : [277.9, 284.6, 300.1, 281.0, 309.9]\n",
      "Highest price recorded: 496 at Day 19, Company 0\n",
      "Normalized Prices : \n",
      "[[0.1176647  0.11714291 0.06835511 0.12262175 0.09888009]\n",
      " [0.06835511 0.08061728 0.11192496 0.08713971 0.03626473]\n",
      " [0.03052499 0.10409804 0.1176647  0.03783012 0.10331535]\n",
      " [0.09053138 0.12079547 0.09940189 0.11270765 0.03443845]\n",
      " [0.0388737  0.04461345 0.09183587 0.1085333  0.11923009]\n",
      " [0.03130768 0.11296855 0.05974549 0.04122178 0.06235447]\n",
      " [0.07357305 0.09131407 0.09496663 0.04774421 0.11505573]\n",
      " [0.08087818 0.04461345 0.08139997 0.05165767 0.06026729]\n",
      " [0.0594846  0.05609293 0.11714291 0.0881833  0.0589628 ]\n",
      " [0.12157816 0.068616   0.04722242 0.06209357 0.11479483]\n",
      " [0.06261536 0.04696152 0.06600703 0.1080115  0.03365576]\n",
      " [0.04122178 0.06757241 0.07148587 0.08087818 0.06548523]\n",
      " [0.02895961 0.12340445 0.07148587 0.11949099 0.07592113]\n",
      " [0.07435574 0.09131407 0.05113588 0.06261536 0.09966279]\n",
      " [0.12340445 0.06600703 0.03287307 0.04226537 0.12418714]\n",
      " [0.06705062 0.02661153 0.09366215 0.03235127 0.10383714]\n",
      " [0.03991729 0.09548843 0.05791921 0.08061728 0.05087498]\n",
      " [0.04852691 0.03626473 0.10931599 0.12731791 0.10644612]\n",
      " [0.12940508 0.0592237  0.09079228 0.09000959 0.09392305]\n",
      " [0.08400895 0.0594846  0.12392624 0.08035638 0.12601342]\n",
      " [0.05400575 0.04643973 0.11218586 0.03626473 0.1181865 ]\n",
      " [0.12575252 0.0495705  0.04696152 0.06391985 0.11609932]\n",
      " [0.08609612 0.06652882 0.05217947 0.04356986 0.05583203]\n",
      " [0.0592237  0.06626793 0.02687243 0.09183587 0.04487434]\n",
      " [0.0785301  0.09340125 0.07383395 0.03104678 0.04096088]\n",
      " [0.04017819 0.12236086 0.10044548 0.06131088 0.06705062]\n",
      " [0.03052499 0.1281006  0.10644612 0.05139678 0.07566023]\n",
      " [0.05452755 0.05478844 0.10879419 0.06313716 0.05974549]\n",
      " [0.1184474  0.03026409 0.03443845 0.05191857 0.07279036]\n",
      " [0.11557753 0.05661472 0.02817691 0.12105637 0.09079228]]\n",
      "Risky Investments Days:\n",
      "Day 2 : [139]\n",
      "Day 3 : [117 145]\n",
      "Day 4 : [132]\n",
      "Day 5 : [149 171]\n",
      "Day 6 : [120 158]\n",
      "Day 7 : [183]\n",
      "Day 8 : [171 198]\n",
      "Day 10 : [181]\n",
      "Day 11 : [180 129]\n",
      "Day 12 : [158]\n",
      "Day 13 : [111]\n",
      "Day 14 : [196]\n",
      "Day 15 : [126 162]\n",
      "Day 16 : [102 124]\n",
      "Day 17 : [153 195]\n",
      "Day 18 : [186 139]\n",
      "Day 21 : [178 139]\n",
      "Day 22 : [190 180]\n",
      "Day 23 : [167]\n",
      "Day 24 : [103 172]\n",
      "Day 25 : [119 157]\n",
      "Day 26 : [154]\n",
      "Day 27 : [117 197]\n",
      "Day 29 : [116 132 199]\n",
      "Day 30 : [108]\n"
     ]
    }
   ],
   "source": [
    "avg = (np.sum(dataset,axis =0))/30\n",
    "avg = [round(a,1) for a in avg]\n",
    "print(\"Average stock prices :\",avg)\n",
    "maxi = np.max(dataset)\n",
    "index = np.argwhere(dataset==maxi)\n",
    "print(f\"Highest price recorded: {maxi} at Day {index[0][0]+1}, Company {index[0][1]}\")\n",
    "norm = np.linalg.norm(dataset)\n",
    "matrix = dataset/norm\n",
    "print(\"Normalized Prices : \")\n",
    "print(matrix)\n",
    "print(\"Risky Investments Days:\")\n",
    "for i in range(len(dataset)):\n",
    "    mask = dataset[i] <200\n",
    "    if len(dataset[i][mask]) !=0:\n",
    "        print(f\"Day {i+1} : {dataset[i][mask]}\")"
   ]
  },
  {
   "cell_type": "code",
   "execution_count": 29,
   "id": "473efb05-a596-4dbc-b1e5-40ec5b67a499",
   "metadata": {},
   "outputs": [
    {
     "name": "stdout",
     "output_type": "stream",
     "text": [
      "[[72 41 23]\n",
      " [21 19 71]\n",
      " [78 19 87]\n",
      " [13 17 40]\n",
      " [18 48 64]\n",
      " [74 98 95]]\n"
     ]
    }
   ],
   "source": [
    "import numpy as np\n",
    "minerals = np.random.randint(10,99,(6,3))\n",
    "print(minerals)"
   ]
  },
  {
   "cell_type": "code",
   "execution_count": 33,
   "id": "1e38f2ec-57fc-4baa-b5cc-f8cac9c603cc",
   "metadata": {},
   "outputs": [
    {
     "name": "stdout",
     "output_type": "stream",
     "text": [
      "Oxygen:276, Water: 242, Food: 380\n",
      "Highest consumption in a month: Water (98 tons in 6)\n",
      "Standard Deviation of consumption: Oxygen: 24.2, Water: 20.0, Food: 31.2\n",
      "Transposed matrix:\n",
      "[[72 21 78 13 18 74]\n",
      " [41 19 19 17 48 98]\n",
      " [23 71 87 40 64 95]]\n"
     ]
    }
   ],
   "source": [
    "totalM = np.sum(minerals,axis = 0)\n",
    "print(f\"Oxygen:{totalR[0]}, Water: {totalR[1]}, Food: {totalR[2]}\")\n",
    "maxi = np.max(minerals)\n",
    "index = np.argwhere(minerals==maxi)\n",
    "match index[0][1]:\n",
    "    case 1:\n",
    "        highComMonth = \"Water\"\n",
    "    case 0:\n",
    "        highComMonth = \"Oxygen\"\n",
    "    case 2:\n",
    "        highComMonth = \"Food\"\n",
    "\n",
    "print(f\"Highest consumption in a month: {highComMonth} ({maxi} tons in {index[0][0]+1})\")\n",
    "stdOfOxygen = np.std(resources[:,0])\n",
    "stdOfWater = np.std(resources[:,1])\n",
    "stdOfFood = np.std(resources[:,2])\n",
    "print(f\"Standard Deviation of consumption: Oxygen: {round(stdOfOxygen,1)}, Water: {round(stdOfWater,1)}, Food: {round(stdOfFood,1)}\")\n",
    "print(\"Transposed matrix:\")\n",
    "print(minerals.T)"
   ]
  },
  {
   "cell_type": "code",
   "execution_count": 49,
   "id": "52b74065-fd52-42fa-a565-c61840d07837",
   "metadata": {},
   "outputs": [
    {
     "name": "stdout",
     "output_type": "stream",
     "text": [
      "[[44 29 26 41 18 18 43 22 24 49]\n",
      " [46 21 15 47 33 16 38 18 30 11]\n",
      " [46 45 33 37 37 27 37 17 13 46]\n",
      " [29 49 17 23 29 36 20 34 33 25]\n",
      " [28 11 16 40 18 49 28 29 25 11]]\n"
     ]
    }
   ],
   "source": [
    "import numpy as np\n",
    "info = np.random.randint(10,50,(5,10))\n",
    "print(info)"
   ]
  },
  {
   "cell_type": "code",
   "execution_count": 55,
   "id": "c5766aec-f9dc-43e2-82b1-b29c85d08433",
   "metadata": {},
   "outputs": [
    {
     "name": "stdout",
     "output_type": "stream",
     "text": [
      "Average points per game:\n",
      "[31.4 27.5 33.8 29.5 25.5]\n"
     ]
    }
   ],
   "source": [
    "avg = (np.sum(info,axis =1))/10\n",
    "for a in avg:\n",
    "    round(a,1)\n",
    "print(\"Average points per game:\")\n",
    "print(avg)\n",
    "\n",
    "\n",
    "\n"
   ]
  },
  {
   "cell_type": "code",
   "execution_count": null,
   "id": "7db0cfb2-168d-4c05-9678-2fec3c61858a",
   "metadata": {},
   "outputs": [],
   "source": []
  }
 ],
 "metadata": {
  "kernelspec": {
   "display_name": "Python [conda env:base] *",
   "language": "python",
   "name": "conda-base-py"
  },
  "language_info": {
   "codemirror_mode": {
    "name": "ipython",
    "version": 3
   },
   "file_extension": ".py",
   "mimetype": "text/x-python",
   "name": "python",
   "nbconvert_exporter": "python",
   "pygments_lexer": "ipython3",
   "version": "3.12.7"
  }
 },
 "nbformat": 4,
 "nbformat_minor": 5
}
